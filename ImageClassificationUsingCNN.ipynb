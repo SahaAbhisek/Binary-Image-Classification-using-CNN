{
 "cells": [
  {
   "cell_type": "markdown",
   "metadata": {},
   "source": [
    "# In this notebook, I have analyzed cats and dogs images using a Convolution Neural Network(CNN) model. I have used 2000 images for  training and 1000 images for tests. An ImageDataGenerator is used to generate images. Without it the model was overfitting the training data.\n",
    "\n",
    "### Author: Abhisek Saha\n",
    "#### Data and idea credit: https://medium.com/analytics-vidhya/transfer-learning-using-inception-v3-for-image-classification-86700411251b"
   ]
  },
  {
   "cell_type": "code",
   "execution_count": 38,
   "metadata": {},
   "outputs": [],
   "source": [
    "# Getting Dependencies\n",
    "\n",
    "import numpy as np\n",
    "import matplotlib.pyplot as plt\n",
    "import os\n",
    "\n",
    "from keras.models import Model, Sequential\n",
    "from keras.layers import Flatten, Dense, Conv2D, MaxPooling2D, Dropout\n",
    "from tensorflow.keras.preprocessing.image import ImageDataGenerator, load_img, img_to_array\n",
    "from tensorflow.keras.preprocessing import image"
   ]
  },
  {
   "cell_type": "code",
   "execution_count": 5,
   "metadata": {},
   "outputs": [],
   "source": [
    "# Getting the File paths\n",
    "\n",
    "base_dir = \"/home/abhisek/python_exam/python_practice/Data_science_practice/TransferLearning/cats_and_dogs_filtered/\"\n",
    "train_dir = os.path.join(base_dir, 'train/')\n",
    "validation_dir = os.path.join(base_dir, 'validation/')\n"
   ]
  },
  {
   "cell_type": "code",
   "execution_count": 12,
   "metadata": {},
   "outputs": [],
   "source": [
    "# Creating the model\n",
    "\n",
    "model = Sequential([\n",
    "    # Adding the first convolution layer\n",
    "    Conv2D(32,(3,3), input_shape=(155,155,3), activation='relu'),\n",
    "    MaxPooling2D(2,2),\n",
    "    \n",
    "    # Adding the Second convolution layer\n",
    "    Conv2D(64,(3,3), activation='relu'),\n",
    "    MaxPooling2D(2,2),\n",
    "    \n",
    "    # Adding the third convolution layer\n",
    "    Conv2D(128,(3,3), activation='relu'),\n",
    "    MaxPooling2D(2,2),\n",
    "    \n",
    "    # Adding the first convolution layer\n",
    "    Conv2D(128,(3,3), activation='relu'),\n",
    "    MaxPooling2D(2,2),\n",
    "    \n",
    "    # Flatten the output\n",
    "    Flatten(),\n",
    "    \n",
    "    # 512 hidden Dense Neuron layers \n",
    "    Dense(512, activation='relu'),\n",
    "    \n",
    "    # Final 1 neuron output layer\n",
    "    Dense(1, activation='sigmoid')\n",
    "    ])"
   ]
  },
  {
   "cell_type": "code",
   "execution_count": 13,
   "metadata": {},
   "outputs": [
    {
     "name": "stdout",
     "output_type": "stream",
     "text": [
      "Model: \"sequential_1\"\n",
      "_________________________________________________________________\n",
      " Layer (type)                Output Shape              Param #   \n",
      "=================================================================\n",
      " conv2d_4 (Conv2D)           (None, 153, 153, 32)      896       \n",
      "                                                                 \n",
      " max_pooling2d_4 (MaxPooling  (None, 76, 76, 32)       0         \n",
      " 2D)                                                             \n",
      "                                                                 \n",
      " conv2d_5 (Conv2D)           (None, 74, 74, 64)        18496     \n",
      "                                                                 \n",
      " max_pooling2d_5 (MaxPooling  (None, 37, 37, 64)       0         \n",
      " 2D)                                                             \n",
      "                                                                 \n",
      " conv2d_6 (Conv2D)           (None, 35, 35, 128)       73856     \n",
      "                                                                 \n",
      " max_pooling2d_6 (MaxPooling  (None, 17, 17, 128)      0         \n",
      " 2D)                                                             \n",
      "                                                                 \n",
      " conv2d_7 (Conv2D)           (None, 15, 15, 128)       147584    \n",
      "                                                                 \n",
      " max_pooling2d_7 (MaxPooling  (None, 7, 7, 128)        0         \n",
      " 2D)                                                             \n",
      "                                                                 \n",
      " flatten_1 (Flatten)         (None, 6272)              0         \n",
      "                                                                 \n",
      " dense_2 (Dense)             (None, 512)               3211776   \n",
      "                                                                 \n",
      " dense_3 (Dense)             (None, 1)                 513       \n",
      "                                                                 \n",
      "=================================================================\n",
      "Total params: 3,453,121\n",
      "Trainable params: 3,453,121\n",
      "Non-trainable params: 0\n",
      "_________________________________________________________________\n"
     ]
    }
   ],
   "source": [
    "model.summary()"
   ]
  },
  {
   "cell_type": "code",
   "execution_count": 14,
   "metadata": {},
   "outputs": [],
   "source": [
    "# Compiling the model\n",
    "model.compile(optimizer='adam',\n",
    "             loss='binary_crossentropy',\n",
    "             metrics=['accuracy'])"
   ]
  },
  {
   "cell_type": "code",
   "execution_count": 15,
   "metadata": {},
   "outputs": [],
   "source": [
    "# Create ImageDataGenerator Instance and flow images to generate sets of images\n",
    "\n",
    "# train_generator = ImageDataGenerator(rescale = 1.0/255.,\n",
    "#                                     width_shift_range=0.2,\n",
    "#                                     height_shift_range=0.2,\n",
    "#                                     rotation_range=40,\n",
    "#                                     horizontal_flip=True,\n",
    "#                                     shear_range=0.2,\n",
    "#                                     zoom_range=0.2,\n",
    "#                                     fill_mode='nearest')\n",
    "\n",
    "train_datagen = ImageDataGenerator(rescale=1.0/255.)\n",
    "test_datagen = ImageDataGenerator(rescale=1.0/255.)"
   ]
  },
  {
   "cell_type": "code",
   "execution_count": 16,
   "metadata": {},
   "outputs": [
    {
     "name": "stdout",
     "output_type": "stream",
     "text": [
      "Found 2000 images belonging to 2 classes.\n",
      "Found 1000 images belonging to 2 classes.\n"
     ]
    }
   ],
   "source": [
    "train_generator = train_datagen.flow_from_directory(train_dir,\n",
    "                                                    target_size = (155,155),\n",
    "                                                    class_mode = 'binary', \n",
    "                                                    batch_size = 20)\n",
    "\n",
    "test_generator = test_datagen.flow_from_directory(validation_dir,\n",
    "                                                 target_size = (155,155),\n",
    "                                                 class_mode = 'binary',\n",
    "                                                 batch_size = 20)"
   ]
  },
  {
   "cell_type": "code",
   "execution_count": 21,
   "metadata": {},
   "outputs": [
    {
     "data": {
      "text/plain": [
       "{'cats': 0, 'dogs': 1}"
      ]
     },
     "execution_count": 21,
     "metadata": {},
     "output_type": "execute_result"
    }
   ],
   "source": [
    "train_generator.class_indices"
   ]
  },
  {
   "cell_type": "code",
   "execution_count": 17,
   "metadata": {},
   "outputs": [
    {
     "name": "stderr",
     "output_type": "stream",
     "text": [
      "/snap/jupyter/6/lib/python3.7/site-packages/ipykernel_launcher.py:8: UserWarning: `Model.fit_generator` is deprecated and will be removed in a future version. Please use `Model.fit`, which supports generators.\n",
      "  \n"
     ]
    },
    {
     "name": "stdout",
     "output_type": "stream",
     "text": [
      "Epoch 1/30\n",
      "100/100 - 126s - loss: 0.7041 - accuracy: 0.5170 - val_loss: 0.6809 - val_accuracy: 0.5930 - 126s/epoch - 1s/step\n",
      "Epoch 2/30\n",
      "100/100 - 113s - loss: 0.6758 - accuracy: 0.5950 - val_loss: 0.6667 - val_accuracy: 0.5900 - 113s/epoch - 1s/step\n",
      "Epoch 3/30\n",
      "100/100 - 114s - loss: 0.6409 - accuracy: 0.6375 - val_loss: 0.6449 - val_accuracy: 0.6250 - 114s/epoch - 1s/step\n",
      "Epoch 4/30\n",
      "100/100 - 113s - loss: 0.6070 - accuracy: 0.6630 - val_loss: 0.6159 - val_accuracy: 0.6670 - 113s/epoch - 1s/step\n",
      "Epoch 5/30\n",
      "100/100 - 102s - loss: 0.5694 - accuracy: 0.7135 - val_loss: 0.6137 - val_accuracy: 0.6750 - 102s/epoch - 1s/step\n",
      "Epoch 6/30\n",
      "100/100 - 104s - loss: 0.4985 - accuracy: 0.7535 - val_loss: 0.6286 - val_accuracy: 0.6810 - 104s/epoch - 1s/step\n",
      "Epoch 7/30\n",
      "100/100 - 103s - loss: 0.4527 - accuracy: 0.7825 - val_loss: 0.6673 - val_accuracy: 0.6190 - 103s/epoch - 1s/step\n",
      "Epoch 8/30\n",
      "100/100 - 103s - loss: 0.3578 - accuracy: 0.8310 - val_loss: 0.6781 - val_accuracy: 0.7030 - 103s/epoch - 1s/step\n",
      "Epoch 9/30\n",
      "100/100 - 104s - loss: 0.2443 - accuracy: 0.8940 - val_loss: 0.9446 - val_accuracy: 0.6930 - 104s/epoch - 1s/step\n",
      "Epoch 10/30\n",
      "100/100 - 110s - loss: 0.1776 - accuracy: 0.9320 - val_loss: 1.0273 - val_accuracy: 0.6920 - 110s/epoch - 1s/step\n",
      "Epoch 11/30\n",
      "100/100 - 104s - loss: 0.1085 - accuracy: 0.9620 - val_loss: 1.3525 - val_accuracy: 0.6860 - 104s/epoch - 1s/step\n",
      "Epoch 12/30\n",
      "100/100 - 104s - loss: 0.0574 - accuracy: 0.9785 - val_loss: 1.6709 - val_accuracy: 0.6640 - 104s/epoch - 1s/step\n",
      "Epoch 13/30\n",
      "100/100 - 104s - loss: 0.0506 - accuracy: 0.9820 - val_loss: 1.6969 - val_accuracy: 0.6920 - 104s/epoch - 1s/step\n",
      "Epoch 14/30\n",
      "100/100 - 103s - loss: 0.0678 - accuracy: 0.9760 - val_loss: 1.3595 - val_accuracy: 0.6990 - 103s/epoch - 1s/step\n",
      "Epoch 15/30\n",
      "100/100 - 103s - loss: 0.0354 - accuracy: 0.9895 - val_loss: 2.0347 - val_accuracy: 0.6640 - 103s/epoch - 1s/step\n",
      "Epoch 16/30\n",
      "100/100 - 103s - loss: 0.0324 - accuracy: 0.9895 - val_loss: 1.8109 - val_accuracy: 0.6930 - 103s/epoch - 1s/step\n",
      "Epoch 17/30\n",
      "100/100 - 103s - loss: 0.0097 - accuracy: 0.9965 - val_loss: 2.1974 - val_accuracy: 0.6970 - 103s/epoch - 1s/step\n",
      "Epoch 18/30\n",
      "100/100 - 102s - loss: 0.0069 - accuracy: 0.9980 - val_loss: 2.2710 - val_accuracy: 0.7070 - 102s/epoch - 1s/step\n",
      "Epoch 19/30\n",
      "100/100 - 111s - loss: 6.2246e-04 - accuracy: 1.0000 - val_loss: 2.3838 - val_accuracy: 0.7030 - 111s/epoch - 1s/step\n",
      "Epoch 20/30\n",
      "100/100 - 173s - loss: 2.9942e-04 - accuracy: 1.0000 - val_loss: 2.4169 - val_accuracy: 0.7050 - 173s/epoch - 2s/step\n",
      "Epoch 21/30\n",
      "100/100 - 176s - loss: 2.1067e-04 - accuracy: 1.0000 - val_loss: 2.4761 - val_accuracy: 0.7050 - 176s/epoch - 2s/step\n",
      "Epoch 22/30\n",
      "100/100 - 215s - loss: 1.6375e-04 - accuracy: 1.0000 - val_loss: 2.5302 - val_accuracy: 0.7060 - 215s/epoch - 2s/step\n",
      "Epoch 23/30\n",
      "100/100 - 159s - loss: 1.3252e-04 - accuracy: 1.0000 - val_loss: 2.5716 - val_accuracy: 0.7070 - 159s/epoch - 2s/step\n",
      "Epoch 24/30\n",
      "100/100 - 150s - loss: 1.0964e-04 - accuracy: 1.0000 - val_loss: 2.6117 - val_accuracy: 0.7070 - 150s/epoch - 1s/step\n",
      "Epoch 25/30\n",
      "100/100 - 144s - loss: 9.2967e-05 - accuracy: 1.0000 - val_loss: 2.6439 - val_accuracy: 0.7070 - 144s/epoch - 1s/step\n",
      "Epoch 26/30\n",
      "100/100 - 141s - loss: 7.9442e-05 - accuracy: 1.0000 - val_loss: 2.6798 - val_accuracy: 0.7070 - 141s/epoch - 1s/step\n",
      "Epoch 27/30\n",
      "100/100 - 143s - loss: 6.8662e-05 - accuracy: 1.0000 - val_loss: 2.7100 - val_accuracy: 0.7060 - 143s/epoch - 1s/step\n",
      "Epoch 28/30\n",
      "100/100 - 113s - loss: 6.0052e-05 - accuracy: 1.0000 - val_loss: 2.7392 - val_accuracy: 0.7050 - 113s/epoch - 1s/step\n",
      "Epoch 29/30\n",
      "100/100 - 103s - loss: 5.2781e-05 - accuracy: 1.0000 - val_loss: 2.7683 - val_accuracy: 0.7060 - 103s/epoch - 1s/step\n",
      "Epoch 30/30\n",
      "100/100 - 104s - loss: 4.6797e-05 - accuracy: 1.0000 - val_loss: 2.7936 - val_accuracy: 0.7060 - 104s/epoch - 1s/step\n"
     ]
    }
   ],
   "source": [
    "# Fitting the images to the model\n",
    "\n",
    "history = model.fit_generator(train_generator,\n",
    "                             steps_per_epoch = 100, # Total_train_images = steps_per_epoch * batch_size\n",
    "                             epochs = 30,\n",
    "                             validation_data = test_generator,\n",
    "                             validation_steps = 50, # total_test_images = validation_seps * batch_size\n",
    "                             verbose=2)"
   ]
  },
  {
   "cell_type": "code",
   "execution_count": 216,
   "metadata": {},
   "outputs": [
    {
     "data": {
      "image/png": "[encoded data removed]",
      "text/plain": [
       "<Figure size 1008x432 with 2 Axes>"
      ]
     },
     "metadata": {
      "needs_background": "light"
     },
     "output_type": "display_data"
    }
   ],
   "source": [
    "# Visualizing Accuracy and loss\n",
    "\n",
    "acc = history.history['accuracy']\n",
    "loss = history.history['loss']\n",
    "val_acc = history.history['val_accuracy']\n",
    "val_loss = history.history['val_loss']\n",
    "\n",
    "epochs = np.arange(1,len(acc)+1)\n",
    "\n",
    "plt.figure(figsize=(14,6))\n",
    "plt.subplot(1,2,1)\n",
    "plt.plot(epochs, acc, 'b', label='Accuracy')\n",
    "plt.plot(epochs, val_acc, 'b--', label='Val_Accuracy')\n",
    "plt.xlabel(\"epochs\", fontsize=14)\n",
    "plt.ylabel(\"Accuracy\", fontsize=14)\n",
    "plt.legend()\n",
    "\n",
    "plt.subplot(1,2,2)\n",
    "plt.plot(epochs, loss, 'b', label='Loss')\n",
    "plt.plot(epochs, val_loss, 'b--', label='Val_loss')\n",
    "plt.xlabel(\"epochs\", fontsize=14)\n",
    "plt.ylabel(\"Losses\", fontsize=14)\n",
    "\n",
    "plt.legend()\n",
    "plt.show()"
   ]
  },
  {
   "cell_type": "markdown",
   "metadata": {},
   "source": [
    "## This is a clear case of overitting. The train accuracy reached 1 but validation accuracy is around 0.7. Also the validation loss is increasing."
   ]
  },
  {
   "cell_type": "markdown",
   "metadata": {},
   "source": [
    "# Adding Augmented images"
   ]
  },
  {
   "cell_type": "code",
   "execution_count": 22,
   "metadata": {},
   "outputs": [],
   "source": [
    "# Create ImageDataGenerator Instance and flow images to generate sets of images\n",
    "\n",
    "train_datagen = ImageDataGenerator(rescale = 1.0/255.,\n",
    "                                   width_shift_range=0.2,\n",
    "                                   height_shift_range=0.2,\n",
    "                                   rotation_range=40,\n",
    "                                   horizontal_flip=True,\n",
    "                                   shear_range=0.2,\n",
    "                                   zoom_range=0.2,\n",
    "                                   fill_mode='nearest')\n",
    "\n",
    "#train_datagen = ImageDataGenerator(rescale=1.0/255.)\n",
    "test_datagen = ImageDataGenerator(rescale=1.0/255.)"
   ]
  },
  {
   "cell_type": "code",
   "execution_count": 23,
   "metadata": {},
   "outputs": [
    {
     "name": "stdout",
     "output_type": "stream",
     "text": [
      "Found 2000 images belonging to 2 classes.\n",
      "Found 1000 images belonging to 2 classes.\n"
     ]
    }
   ],
   "source": [
    "train_generator = train_datagen.flow_from_directory(train_dir,\n",
    "                                                    target_size = (155,155),\n",
    "                                                    class_mode = 'binary', \n",
    "                                                    batch_size = 20)\n",
    "\n",
    "test_generator = test_datagen.flow_from_directory(validation_dir,\n",
    "                                                 target_size = (155,155),\n",
    "                                                 class_mode = 'binary',\n",
    "                                                 batch_size = 20)"
   ]
  },
  {
   "cell_type": "code",
   "execution_count": 24,
   "metadata": {},
   "outputs": [
    {
     "data": {
      "text/plain": [
       "{'cats': 0, 'dogs': 1}"
      ]
     },
     "execution_count": 24,
     "metadata": {},
     "output_type": "execute_result"
    }
   ],
   "source": [
    "train_generator.class_indices"
   ]
  },
  {
   "cell_type": "code",
   "execution_count": 30,
   "metadata": {},
   "outputs": [],
   "source": [
    "# Creating the model\n",
    "\n",
    "model_aug = Sequential([\n",
    "    # Adding the first convolution layer\n",
    "    Conv2D(32,(3,3), input_shape=(155,155,3), activation='relu'),\n",
    "    MaxPooling2D(2,2),\n",
    "    \n",
    "    # Adding the Second convolution layer\n",
    "    Conv2D(64,(3,3), activation='relu'),\n",
    "    MaxPooling2D(2,2),\n",
    "    \n",
    "    # Adding the third convolution layer\n",
    "    Conv2D(128,(3,3), activation='relu'),\n",
    "    MaxPooling2D(2,2),\n",
    "    \n",
    "    # Adding the first convolution layer\n",
    "    Conv2D(128,(3,3), activation='relu'),\n",
    "    MaxPooling2D(2,2),\n",
    "    \n",
    "    # Implimenting Dropout layer\n",
    "    Dropout(0.5),\n",
    "    \n",
    "    # Flatten the output\n",
    "    Flatten(),\n",
    "    \n",
    "    # 512 hidden Dense Neuron layers \n",
    "    Dense(512, activation='relu'),\n",
    "    \n",
    "    # Final 1 neuron output layer\n",
    "    Dense(1, activation='sigmoid')\n",
    "    ])"
   ]
  },
  {
   "cell_type": "code",
   "execution_count": 31,
   "metadata": {
    "scrolled": true
   },
   "outputs": [
    {
     "name": "stdout",
     "output_type": "stream",
     "text": [
      "Model: \"sequential_3\"\n",
      "_________________________________________________________________\n",
      " Layer (type)                Output Shape              Param #   \n",
      "=================================================================\n",
      " conv2d_12 (Conv2D)          (None, 153, 153, 32)      896       \n",
      "                                                                 \n",
      " max_pooling2d_12 (MaxPoolin  (None, 76, 76, 32)       0         \n",
      " g2D)                                                            \n",
      "                                                                 \n",
      " conv2d_13 (Conv2D)          (None, 74, 74, 64)        18496     \n",
      "                                                                 \n",
      " max_pooling2d_13 (MaxPoolin  (None, 37, 37, 64)       0         \n",
      " g2D)                                                            \n",
      "                                                                 \n",
      " conv2d_14 (Conv2D)          (None, 35, 35, 128)       73856     \n",
      "                                                                 \n",
      " max_pooling2d_14 (MaxPoolin  (None, 17, 17, 128)      0         \n",
      " g2D)                                                            \n",
      "                                                                 \n",
      " conv2d_15 (Conv2D)          (None, 15, 15, 128)       147584    \n",
      "                                                                 \n",
      " max_pooling2d_15 (MaxPoolin  (None, 7, 7, 128)        0         \n",
      " g2D)                                                            \n",
      "                                                                 \n",
      " dropout_1 (Dropout)         (None, 7, 7, 128)         0         \n",
      "                                                                 \n",
      " flatten_3 (Flatten)         (None, 6272)              0         \n",
      "                                                                 \n",
      " dense_6 (Dense)             (None, 512)               3211776   \n",
      "                                                                 \n",
      " dense_7 (Dense)             (None, 1)                 513       \n",
      "                                                                 \n",
      "=================================================================\n",
      "Total params: 3,453,121\n",
      "Trainable params: 3,453,121\n",
      "Non-trainable params: 0\n",
      "_________________________________________________________________\n"
     ]
    }
   ],
   "source": [
    "model_aug.summary()"
   ]
  },
  {
   "cell_type": "code",
   "execution_count": 34,
   "metadata": {},
   "outputs": [],
   "source": [
    "model_aug.compile(optimizer='adam',\n",
    "                 loss='binary_crossentropy',\n",
    "                 metrics=['accuracy'])"
   ]
  },
  {
   "cell_type": "code",
   "execution_count": 35,
   "metadata": {},
   "outputs": [],
   "source": [
    "# Callback function\n",
    "\n",
    "class myCallback(keras.callbacks.Callback):\n",
    "    def on_epoch_end(self, epoch, logs={}):\n",
    "        if(logs.get('accuracy')>0.94):\n",
    "            print(\"\\nReached 94% accuracy so cancelling training!\")\n",
    "            self.model.stop_training = True"
   ]
  },
  {
   "cell_type": "code",
   "execution_count": 36,
   "metadata": {},
   "outputs": [
    {
     "name": "stderr",
     "output_type": "stream",
     "text": [
      "/snap/jupyter/6/lib/python3.7/site-packages/ipykernel_launcher.py:10: UserWarning: `Model.fit_generator` is deprecated and will be removed in a future version. Please use `Model.fit`, which supports generators.\n",
      "  # Remove the CWD from sys.path while we load stuff.\n"
     ]
    },
    {
     "name": "stdout",
     "output_type": "stream",
     "text": [
      "Epoch 1/50\n",
      "100/100 - 185s - loss: 0.6942 - accuracy: 0.5150 - val_loss: 0.6902 - val_accuracy: 0.5400 - 185s/epoch - 2s/step\n",
      "Epoch 2/50\n",
      "100/100 - 112s - loss: 0.6927 - accuracy: 0.5170 - val_loss: 0.6915 - val_accuracy: 0.5020 - 112s/epoch - 1s/step\n",
      "Epoch 3/50\n",
      "100/100 - 111s - loss: 0.6880 - accuracy: 0.5545 - val_loss: 0.6699 - val_accuracy: 0.5890 - 111s/epoch - 1s/step\n",
      "Epoch 4/50\n",
      "100/100 - 108s - loss: 0.6736 - accuracy: 0.5845 - val_loss: 0.6475 - val_accuracy: 0.6470 - 108s/epoch - 1s/step\n",
      "Epoch 5/50\n",
      "100/100 - 109s - loss: 0.6802 - accuracy: 0.5615 - val_loss: 0.6538 - val_accuracy: 0.6050 - 109s/epoch - 1s/step\n",
      "Epoch 6/50\n",
      "100/100 - 113s - loss: 0.6525 - accuracy: 0.5995 - val_loss: 0.6081 - val_accuracy: 0.6570 - 113s/epoch - 1s/step\n",
      "Epoch 7/50\n",
      "100/100 - 111s - loss: 0.6612 - accuracy: 0.6035 - val_loss: 0.6101 - val_accuracy: 0.6650 - 111s/epoch - 1s/step\n",
      "Epoch 8/50\n",
      "100/100 - 114s - loss: 0.6433 - accuracy: 0.6305 - val_loss: 0.6186 - val_accuracy: 0.6540 - 114s/epoch - 1s/step\n",
      "Epoch 9/50\n",
      "100/100 - 115s - loss: 0.6253 - accuracy: 0.6500 - val_loss: 0.6136 - val_accuracy: 0.6480 - 115s/epoch - 1s/step\n",
      "Epoch 10/50\n",
      "100/100 - 111s - loss: 0.6341 - accuracy: 0.6310 - val_loss: 0.5897 - val_accuracy: 0.6750 - 111s/epoch - 1s/step\n",
      "Epoch 11/50\n",
      "100/100 - 112s - loss: 0.6084 - accuracy: 0.6560 - val_loss: 0.5894 - val_accuracy: 0.6640 - 112s/epoch - 1s/step\n",
      "Epoch 12/50\n",
      "100/100 - 111s - loss: 0.6227 - accuracy: 0.6455 - val_loss: 0.6011 - val_accuracy: 0.6630 - 111s/epoch - 1s/step\n",
      "Epoch 13/50\n",
      "100/100 - 110s - loss: 0.6161 - accuracy: 0.6520 - val_loss: 0.6062 - val_accuracy: 0.6720 - 110s/epoch - 1s/step\n",
      "Epoch 14/50\n",
      "100/100 - 110s - loss: 0.5921 - accuracy: 0.6715 - val_loss: 0.5690 - val_accuracy: 0.7150 - 110s/epoch - 1s/step\n",
      "Epoch 15/50\n",
      "100/100 - 108s - loss: 0.6029 - accuracy: 0.6825 - val_loss: 0.6640 - val_accuracy: 0.5800 - 108s/epoch - 1s/step\n",
      "Epoch 16/50\n",
      "100/100 - 107s - loss: 0.5926 - accuracy: 0.6780 - val_loss: 0.5518 - val_accuracy: 0.7040 - 107s/epoch - 1s/step\n",
      "Epoch 17/50\n",
      "100/100 - 106s - loss: 0.5707 - accuracy: 0.7130 - val_loss: 0.5614 - val_accuracy: 0.6920 - 106s/epoch - 1s/step\n",
      "Epoch 18/50\n",
      "100/100 - 106s - loss: 0.5737 - accuracy: 0.7050 - val_loss: 0.5644 - val_accuracy: 0.6900 - 106s/epoch - 1s/step\n",
      "Epoch 19/50\n",
      "100/100 - 105s - loss: 0.5818 - accuracy: 0.6925 - val_loss: 0.5266 - val_accuracy: 0.7270 - 105s/epoch - 1s/step\n",
      "Epoch 20/50\n",
      "100/100 - 106s - loss: 0.5663 - accuracy: 0.7000 - val_loss: 0.5192 - val_accuracy: 0.7330 - 106s/epoch - 1s/step\n",
      "Epoch 21/50\n",
      "100/100 - 106s - loss: 0.5570 - accuracy: 0.7145 - val_loss: 0.5348 - val_accuracy: 0.7100 - 106s/epoch - 1s/step\n",
      "Epoch 22/50\n",
      "100/100 - 106s - loss: 0.5372 - accuracy: 0.7395 - val_loss: 0.5343 - val_accuracy: 0.7230 - 106s/epoch - 1s/step\n",
      "Epoch 23/50\n",
      "100/100 - 105s - loss: 0.5519 - accuracy: 0.7125 - val_loss: 0.5415 - val_accuracy: 0.7180 - 105s/epoch - 1s/step\n",
      "Epoch 24/50\n",
      "100/100 - 106s - loss: 0.5386 - accuracy: 0.7225 - val_loss: 0.5214 - val_accuracy: 0.7240 - 106s/epoch - 1s/step\n",
      "Epoch 25/50\n",
      "100/100 - 106s - loss: 0.5283 - accuracy: 0.7375 - val_loss: 0.5326 - val_accuracy: 0.7220 - 106s/epoch - 1s/step\n",
      "Epoch 26/50\n",
      "100/100 - 106s - loss: 0.5360 - accuracy: 0.7285 - val_loss: 0.5656 - val_accuracy: 0.7300 - 106s/epoch - 1s/step\n",
      "Epoch 27/50\n",
      "100/100 - 106s - loss: 0.5397 - accuracy: 0.7405 - val_loss: 0.5192 - val_accuracy: 0.7370 - 106s/epoch - 1s/step\n",
      "Epoch 28/50\n",
      "100/100 - 106s - loss: 0.5257 - accuracy: 0.7420 - val_loss: 0.5108 - val_accuracy: 0.7330 - 106s/epoch - 1s/step\n",
      "Epoch 29/50\n",
      "100/100 - 111s - loss: 0.5281 - accuracy: 0.7425 - val_loss: 0.5035 - val_accuracy: 0.7520 - 111s/epoch - 1s/step\n",
      "Epoch 30/50\n",
      "100/100 - 106s - loss: 0.5161 - accuracy: 0.7480 - val_loss: 0.4990 - val_accuracy: 0.7540 - 106s/epoch - 1s/step\n",
      "Epoch 31/50\n",
      "100/100 - 105s - loss: 0.5218 - accuracy: 0.7320 - val_loss: 0.5249 - val_accuracy: 0.7600 - 105s/epoch - 1s/step\n",
      "Epoch 32/50\n",
      "100/100 - 106s - loss: 0.5123 - accuracy: 0.7595 - val_loss: 0.4977 - val_accuracy: 0.7510 - 106s/epoch - 1s/step\n",
      "Epoch 33/50\n",
      "100/100 - 106s - loss: 0.5167 - accuracy: 0.7510 - val_loss: 0.4959 - val_accuracy: 0.7590 - 106s/epoch - 1s/step\n",
      "Epoch 34/50\n",
      "100/100 - 106s - loss: 0.5079 - accuracy: 0.7485 - val_loss: 0.5185 - val_accuracy: 0.7280 - 106s/epoch - 1s/step\n",
      "Epoch 35/50\n",
      "100/100 - 106s - loss: 0.5221 - accuracy: 0.7415 - val_loss: 0.5011 - val_accuracy: 0.7510 - 106s/epoch - 1s/step\n",
      "Epoch 36/50\n",
      "100/100 - 105s - loss: 0.4988 - accuracy: 0.7580 - val_loss: 0.5089 - val_accuracy: 0.7590 - 105s/epoch - 1s/step\n",
      "Epoch 37/50\n",
      "100/100 - 105s - loss: 0.5005 - accuracy: 0.7595 - val_loss: 0.4831 - val_accuracy: 0.7630 - 105s/epoch - 1s/step\n",
      "Epoch 38/50\n",
      "100/100 - 106s - loss: 0.4917 - accuracy: 0.7590 - val_loss: 0.4774 - val_accuracy: 0.7630 - 106s/epoch - 1s/step\n",
      "Epoch 39/50\n",
      "100/100 - 108s - loss: 0.5053 - accuracy: 0.7485 - val_loss: 0.4666 - val_accuracy: 0.7740 - 108s/epoch - 1s/step\n",
      "Epoch 40/50\n",
      "100/100 - 106s - loss: 0.4846 - accuracy: 0.7710 - val_loss: 0.4684 - val_accuracy: 0.7800 - 106s/epoch - 1s/step\n",
      "Epoch 41/50\n",
      "100/100 - 107s - loss: 0.4823 - accuracy: 0.7650 - val_loss: 0.4771 - val_accuracy: 0.7700 - 107s/epoch - 1s/step\n",
      "Epoch 42/50\n",
      "100/100 - 105s - loss: 0.4741 - accuracy: 0.7860 - val_loss: 0.4470 - val_accuracy: 0.7850 - 105s/epoch - 1s/step\n",
      "Epoch 43/50\n",
      "100/100 - 105s - loss: 0.4834 - accuracy: 0.7845 - val_loss: 0.4691 - val_accuracy: 0.7700 - 105s/epoch - 1s/step\n",
      "Epoch 44/50\n",
      "100/100 - 106s - loss: 0.4619 - accuracy: 0.7890 - val_loss: 0.5092 - val_accuracy: 0.7390 - 106s/epoch - 1s/step\n",
      "Epoch 45/50\n",
      "100/100 - 105s - loss: 0.4716 - accuracy: 0.7725 - val_loss: 0.4563 - val_accuracy: 0.7680 - 105s/epoch - 1s/step\n",
      "Epoch 46/50\n",
      "100/100 - 106s - loss: 0.4513 - accuracy: 0.7880 - val_loss: 0.4905 - val_accuracy: 0.7440 - 106s/epoch - 1s/step\n",
      "Epoch 47/50\n",
      "100/100 - 105s - loss: 0.4706 - accuracy: 0.7815 - val_loss: 0.4387 - val_accuracy: 0.7880 - 105s/epoch - 1s/step\n",
      "Epoch 48/50\n",
      "100/100 - 105s - loss: 0.4466 - accuracy: 0.7925 - val_loss: 0.4569 - val_accuracy: 0.7780 - 105s/epoch - 1s/step\n",
      "Epoch 49/50\n",
      "100/100 - 106s - loss: 0.4642 - accuracy: 0.7830 - val_loss: 0.4624 - val_accuracy: 0.7730 - 106s/epoch - 1s/step\n",
      "Epoch 50/50\n",
      "100/100 - 105s - loss: 0.4384 - accuracy: 0.7880 - val_loss: 0.4675 - val_accuracy: 0.7790 - 105s/epoch - 1s/step\n"
     ]
    }
   ],
   "source": [
    "# Fitting the images to the model\n",
    "\n",
    "callback = myCallback()\n",
    "history_aug = model_aug.fit_generator(train_generator,\n",
    "                             steps_per_epoch = 100, # Total_train_images = steps_per_epoch * batch_size\n",
    "                             epochs = 50,\n",
    "                             validation_data = test_generator,\n",
    "                             validation_steps = 50, # total_test_images = validation_seps * batch_size\n",
    "                             verbose = 2,\n",
    "                             callbacks= [callback])"
   ]
  },
  {
   "cell_type": "code",
   "execution_count": 215,
   "metadata": {},
   "outputs": [
    {
     "data": {
      "image/png": "[encoded data removed]",
      "text/plain": [
       "<Figure size 1008x432 with 2 Axes>"
      ]
     },
     "metadata": {
      "needs_background": "light"
     },
     "output_type": "display_data"
    }
   ],
   "source": [
    "# Visualizing Accuracy and loss after Augmentation and adding a dropout layer in the model\n",
    "\n",
    "acc = history_aug.history['accuracy']\n",
    "loss = history_aug.history['loss']\n",
    "val_acc = history_aug.history['val_accuracy']\n",
    "val_loss = history_aug.history['val_loss']\n",
    "\n",
    "epochs = np.arange(1,len(acc)+1)\n",
    "\n",
    "plt.figure(figsize=(14,6))\n",
    "plt.subplot(1,2,1)\n",
    "plt.plot(epochs, acc, 'b', label='Accuracy')\n",
    "plt.plot(epochs, val_acc, 'b--', label='Val_Accuracy')\n",
    "plt.xlabel(\"epochs\", fontsize=14)\n",
    "plt.ylabel(\"Accuracy\", fontsize=14)\n",
    "plt.legend()\n",
    "\n",
    "plt.subplot(1,2,2)\n",
    "plt.plot(epochs, loss, 'b', label='Loss')\n",
    "plt.plot(epochs, val_loss, 'b--', label='Val_loss')\n",
    "plt.xlabel(\"epochs\", fontsize=14)\n",
    "plt.ylabel(\"Losses\", fontsize=14)\n",
    "\n",
    "plt.legend()\n",
    "plt.show()"
   ]
  },
  {
   "cell_type": "markdown",
   "metadata": {},
   "source": [
    "## 1. This is a much better situation than the privious one. Although the we rech only 80% accuracy, but now there is no overfitting.\n",
    "\n",
    "## 2. Notice that the lines in both of these plots have not saturated. If we increase the number of epochs, we can get better accuracy. The increase in the number of training imge can also improve the accuracy as we have only used 3000 images for training and validation.\n",
    "\n",
    "## 3. One can also use transfer learnings to get better results."
   ]
  },
  {
   "cell_type": "markdown",
   "metadata": {},
   "source": [
    "# Validation Using Train and Validation Images"
   ]
  },
  {
   "cell_type": "code",
   "execution_count": 136,
   "metadata": {
    "scrolled": true
   },
   "outputs": [],
   "source": [
    "# Testing with train cats and dogs images and saving the predictions in lists\n",
    "path = \"train/\"\n",
    "cat_path = os.path.join(path, 'cats/')\n",
    "dog_path = os.path.join(path, 'dogs/')\n",
    "\n",
    "train_cat_predictions = []\n",
    "train_dog_predictions = []\n",
    "\n",
    "for i in range(0,499):\n",
    "    fn = 'cat.'+str(i)+'.jpg'\n",
    "    file_name = os.path.join(cat_path,fn)\n",
    "    img = image.load_img(file_name, target_size=(155,155))\n",
    "    x = image.img_to_array(img)/255.\n",
    "    x = np.expand_dims(x, axis=0)\n",
    "    \n",
    "    images = np.vstack([x])\n",
    "    classes = model_aug.predict(images, batch_size=10)\n",
    "    #print(classes[0])\n",
    "    if(classes[0]>0.5):\n",
    "        #print(fn + \" is a dog\")\n",
    "        train_cat_predictions.append(\"dog\")\n",
    "    else:\n",
    "        #print(fn + \" is a cat\")\n",
    "        train_cat_predictions.append(\"cat\")\n",
    "    \n",
    "    fn = 'dog.'+str(i)+'.jpg'\n",
    "    file_name = os.path.join(dog_path,fn)\n",
    "    img = image.load_img(file_name, target_size=(155,155))\n",
    "    x = image.img_to_array(img)/255.\n",
    "    x = np.expand_dims(x, axis=0)\n",
    "    \n",
    "    images = np.vstack([x])\n",
    "    classes = model_aug.predict(images, batch_size=10)\n",
    "    #print(classes[0])\n",
    "    if(classes[0]>0.5):\n",
    "        #print(fn + \" is a dog\")\n",
    "        train_dog_predictions.append(\"dog\")\n",
    "    else:\n",
    "        #print(fn + \" is a cat\")\n",
    "        train_dog_predictions.append(\"cat\")\n",
    "\n"
   ]
  },
  {
   "cell_type": "code",
   "execution_count": 137,
   "metadata": {},
   "outputs": [],
   "source": [
    "# Testing with validation cats and dogs images and saving the predictions in lists\n",
    "path = \"validation/\"\n",
    "cat_path = os.path.join(path, 'cats/')\n",
    "dog_path = os.path.join(path, 'dogs/')\n",
    "\n",
    "val_cat_predictions = []\n",
    "val_dog_predictions = []\n",
    "\n",
    "for i in range(0,499):\n",
    "    fn = 'cat.'+str(2000+i)+'.jpg'\n",
    "    file_name = os.path.join(cat_path,fn)\n",
    "    img = image.load_img(file_name, target_size=(155,155))\n",
    "    x = image.img_to_array(img)/255.\n",
    "    x = np.expand_dims(x, axis=0)\n",
    "    \n",
    "    images = np.vstack([x])\n",
    "    classes = model_aug.predict(images, batch_size=10)\n",
    "    #print(classes[0])\n",
    "    if(classes[0]>0.5):\n",
    "        #print(fn + \" is a dog\")\n",
    "        val_cat_predictions.append(\"dog\")\n",
    "    else:\n",
    "        #print(fn + \" is a cat\")\n",
    "        val_cat_predictions.append(\"cat\")\n",
    "    \n",
    "    fn = 'dog.'+str(2000+i)+'.jpg'\n",
    "    file_name = os.path.join(dog_path,fn)\n",
    "    img = image.load_img(file_name, target_size=(155,155))\n",
    "    x = image.img_to_array(img)/255.\n",
    "    x = np.expand_dims(x, axis=0)\n",
    "    \n",
    "    images = np.vstack([x])\n",
    "    classes = model_aug.predict(images, batch_size=10)\n",
    "    #print(classes[0])\n",
    "    if(classes[0]>0.5):\n",
    "        #print(fn + \" is a dog\")\n",
    "        val_dog_predictions.append(\"dog\")\n",
    "    else:\n",
    "        #print(fn + \" is a cat\")\n",
    "        val_dog_predictions.append(\"cat\")\n",
    "\n"
   ]
  },
  {
   "cell_type": "code",
   "execution_count": 193,
   "metadata": {},
   "outputs": [
    {
     "data": {
      "text/plain": [
       "[0.734, 0.264, 0.086, 0.912, 0.672, 0.326, 0.116, 0.882]"
      ]
     },
     "execution_count": 193,
     "metadata": {},
     "output_type": "execute_result"
    }
   ],
   "source": [
    "# Calculating prediction percentages\n",
    "train_right_cat = train_cat_predictions.count(\"cat\")/500\n",
    "train_wrong_dog = train_cat_predictions.count(\"dog\")/500\n",
    "\n",
    "train_right_dog = train_dog_predictions.count(\"dog\")/500\n",
    "train_wrong_cat = train_dog_predictions.count(\"cat\")/500\n",
    "\n",
    "val_right_cat = val_cat_predictions.count(\"cat\")/500\n",
    "val_wrong_dog = val_cat_predictions.count(\"dog\")/500\n",
    "\n",
    "val_right_dog = val_dog_predictions.count(\"dog\")/500\n",
    "val_wrong_cat = val_dog_predictions.count(\"cat\")/500\n",
    "\n",
    "percentages = [train_right_cat, train_wrong_dog, train_wrong_cat, train_right_dog, \n",
    "              val_right_cat, val_wrong_dog, val_wrong_cat, val_right_dog]\n",
    "percentages"
   ]
  },
  {
   "cell_type": "code",
   "execution_count": 213,
   "metadata": {
    "scrolled": true
   },
   "outputs": [
    {
     "name": "stderr",
     "output_type": "stream",
     "text": [
      "/home/abhisek/snap/jupyter/common/lib/python3.7/site-packages/seaborn/_decorators.py:43: FutureWarning: Pass the following variable as a keyword arg: x. From version 0.12, the only valid positional argument will be `data`, and passing other arguments without an explicit keyword will result in an error or misinterpretation.\n",
      "  FutureWarning\n",
      "/home/abhisek/snap/jupyter/common/lib/python3.7/site-packages/seaborn/_decorators.py:43: FutureWarning: Pass the following variable as a keyword arg: x. From version 0.12, the only valid positional argument will be `data`, and passing other arguments without an explicit keyword will result in an error or misinterpretation.\n",
      "  FutureWarning\n",
      "/home/abhisek/snap/jupyter/common/lib/python3.7/site-packages/seaborn/_decorators.py:43: FutureWarning: Pass the following variable as a keyword arg: x. From version 0.12, the only valid positional argument will be `data`, and passing other arguments without an explicit keyword will result in an error or misinterpretation.\n",
      "  FutureWarning\n",
      "/home/abhisek/snap/jupyter/common/lib/python3.7/site-packages/seaborn/_decorators.py:43: FutureWarning: Pass the following variable as a keyword arg: x. From version 0.12, the only valid positional argument will be `data`, and passing other arguments without an explicit keyword will result in an error or misinterpretation.\n",
      "  FutureWarning\n"
     ]
    },
    {
     "data": {
      "image/png": "[encoded data removed]",
      "text/plain": [
       "<Figure size 1008x864 with 4 Axes>"
      ]
     },
     "metadata": {
      "needs_background": "light"
     },
     "output_type": "display_data"
    }
   ],
   "source": [
    "# Plotting the number of times the model gives right and wrong predictions\n",
    "import seaborn as sns\n",
    "\n",
    "titles = [\"Train Cat Prediction\", \"Train Dog Prediction\", \"Validation Cat Prediction\", \"Validation Dog Prediction\"]\n",
    "prediction_data = [train_cat_predictions, train_dog_predictions, val_cat_predictions, val_dog_predictions]\n",
    "k=0\n",
    "plt.figure(figsize=(14,12))\n",
    "\n",
    "for figs in range(1,5):\n",
    "    plt.subplot(2,2,figs)\n",
    "    plt.title(titles[figs-1])\n",
    "    plt.ylim(0,500)\n",
    "    axis_name = 'ax'+str(figs)\n",
    "    axis_name = sns.countplot(prediction_data[figs-1], order=['cat','dog'])\n",
    "    patches = axis_name.patches\n",
    "    for i in range(len(patches)):\n",
    "        x = patches[i].get_x() + patches[i].get_width()/2\n",
    "        y = patches[i].get_height()+4.0\n",
    "        axis_name.annotate('{:.2f}%'.format(percentages[k]), (x, y), ha='center')\n",
    "        k+=1\n",
    "\n",
    "\n",
    "\n",
    "plt.show()"
   ]
  },
  {
   "cell_type": "code",
   "execution_count": null,
   "metadata": {},
   "outputs": [],
   "source": []
  }
 ],
 "metadata": {
  "kernelspec": {
   "display_name": "Python 3",
   "language": "python",
   "name": "python3"
  },
  "language_info": {
   "codemirror_mode": {
    "name": "ipython",
    "version": 3
   },
   "file_extension": ".py",
   "mimetype": "text/x-python",
   "name": "python",
   "nbconvert_exporter": "python",
   "pygments_lexer": "ipython3",
   "version": "3.7.3"
  }
 },
 "nbformat": 4,
 "nbformat_minor": 2
}
